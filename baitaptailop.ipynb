{
  "nbformat": 4,
  "nbformat_minor": 0,
  "metadata": {
    "colab": {
      "name": "baitaptailop.ipynb",
      "provenance": [],
      "authorship_tag": "ABX9TyMtcCf0l7jCGy21yyGa/l8f",
      "include_colab_link": true
    },
    "kernelspec": {
      "name": "python3",
      "display_name": "Python 3"
    },
    "language_info": {
      "name": "python"
    }
  },
  "cells": [
    {
      "cell_type": "markdown",
      "metadata": {
        "id": "view-in-github",
        "colab_type": "text"
      },
      "source": [
        "<a href=\"https://colab.research.google.com/github/lenaphamthi/code15_11/blob/master/baitaptailop.ipynb\" target=\"_parent\"><img src=\"https://colab.research.google.com/assets/colab-badge.svg\" alt=\"Open In Colab\"/></a>"
      ]
    },
    {
      "cell_type": "markdown",
      "metadata": {
        "id": "-FpNESG7ukH9"
      },
      "source": [
        "bai 1"
      ]
    },
    {
      "cell_type": "code",
      "metadata": {
        "colab": {
          "base_uri": "https://localhost:8080/"
        },
        "id": "0NfUWSFNumVk",
        "outputId": "c876a9e3-b067-4cb0-c73e-86a0edfa6aae"
      },
      "source": [
        "a = [1,2,3,4,5]\n",
        "sum(a)"
      ],
      "execution_count": 6,
      "outputs": [
        {
          "output_type": "execute_result",
          "data": {
            "text/plain": [
              "15"
            ]
          },
          "metadata": {},
          "execution_count": 6
        }
      ]
    },
    {
      "cell_type": "markdown",
      "metadata": {
        "id": "Oy7JwfbF1e7g"
      },
      "source": [
        "bai 2"
      ]
    },
    {
      "cell_type": "code",
      "metadata": {
        "colab": {
          "base_uri": "https://localhost:8080/",
          "height": 201
        },
        "id": "WRrDsZ8kzzzv",
        "outputId": "adfebc91-2aa8-4232-e368-3eebe4a0d950"
      },
      "source": [
        "import math\n",
        "list1 = [2,3,5]\n",
        "print(math.prod(sequence))\n"
      ],
      "execution_count": 58,
      "outputs": [
        {
          "output_type": "error",
          "ename": "AttributeError",
          "evalue": "ignored",
          "traceback": [
            "\u001b[0;31m---------------------------------------------------------------------------\u001b[0m",
            "\u001b[0;31mAttributeError\u001b[0m                            Traceback (most recent call last)",
            "\u001b[0;32m<ipython-input-58-3065ec7387af>\u001b[0m in \u001b[0;36m<module>\u001b[0;34m()\u001b[0m\n\u001b[1;32m      1\u001b[0m \u001b[0;32mimport\u001b[0m \u001b[0mmath\u001b[0m\u001b[0;34m\u001b[0m\u001b[0;34m\u001b[0m\u001b[0m\n\u001b[1;32m      2\u001b[0m \u001b[0mlist1\u001b[0m \u001b[0;34m=\u001b[0m \u001b[0;34m[\u001b[0m\u001b[0;36m2\u001b[0m\u001b[0;34m,\u001b[0m\u001b[0;36m3\u001b[0m\u001b[0;34m,\u001b[0m\u001b[0;36m5\u001b[0m\u001b[0;34m]\u001b[0m\u001b[0;34m\u001b[0m\u001b[0;34m\u001b[0m\u001b[0m\n\u001b[0;32m----> 3\u001b[0;31m \u001b[0mprint\u001b[0m\u001b[0;34m(\u001b[0m\u001b[0mmath\u001b[0m\u001b[0;34m.\u001b[0m\u001b[0mprod\u001b[0m\u001b[0;34m(\u001b[0m\u001b[0msequence\u001b[0m\u001b[0;34m)\u001b[0m\u001b[0;34m)\u001b[0m\u001b[0;34m\u001b[0m\u001b[0;34m\u001b[0m\u001b[0m\n\u001b[0m",
            "\u001b[0;31mAttributeError\u001b[0m: module 'math' has no attribute 'prod'"
          ]
        }
      ]
    },
    {
      "cell_type": "markdown",
      "metadata": {
        "id": "aqsNSKSMwPPM"
      },
      "source": [
        "bai 3"
      ]
    },
    {
      "cell_type": "code",
      "metadata": {
        "colab": {
          "base_uri": "https://localhost:8080/"
        },
        "id": "ZJEcd3UUwOqO",
        "outputId": "8eff1a4f-926c-4ef2-ae00-d3d337945c3a"
      },
      "source": [
        "list1 = [1,2,3,4,5,6]\n",
        "max(list1)"
      ],
      "execution_count": 19,
      "outputs": [
        {
          "output_type": "execute_result",
          "data": {
            "text/plain": [
              "6"
            ]
          },
          "metadata": {},
          "execution_count": 19
        }
      ]
    },
    {
      "cell_type": "markdown",
      "metadata": {
        "id": "RQpB3-zJwUp0"
      },
      "source": [
        "bai 4"
      ]
    },
    {
      "cell_type": "code",
      "metadata": {
        "colab": {
          "base_uri": "https://localhost:8080/"
        },
        "id": "kUHc8FwEwVUO",
        "outputId": "086abacc-4efb-4fab-b7c0-4a9ff09bea86"
      },
      "source": [
        "min(list1)"
      ],
      "execution_count": 20,
      "outputs": [
        {
          "output_type": "execute_result",
          "data": {
            "text/plain": [
              "1"
            ]
          },
          "metadata": {},
          "execution_count": 20
        }
      ]
    },
    {
      "cell_type": "markdown",
      "metadata": {
        "id": "VxykXzK7wO1u"
      },
      "source": [
        "bai 5"
      ]
    },
    {
      "cell_type": "code",
      "metadata": {
        "colab": {
          "base_uri": "https://localhost:8080/"
        },
        "id": "7mDhEjpuzKMQ",
        "outputId": "fade0eea-4645-4514-fb12-b7a73750b8f1"
      },
      "source": [
        "list3 = [1, 5, 10, 20]\n",
        "list3.sort(reverse=False)\n",
        "print(list3)"
      ],
      "execution_count": 48,
      "outputs": [
        {
          "output_type": "stream",
          "name": "stdout",
          "text": [
            "[1, 5, 10, 20]\n"
          ]
        }
      ]
    },
    {
      "cell_type": "markdown",
      "metadata": {
        "id": "6NIGc_9SxHR9"
      },
      "source": [
        "bai 6"
      ]
    },
    {
      "cell_type": "code",
      "metadata": {
        "colab": {
          "base_uri": "https://localhost:8080/"
        },
        "id": "YVMC_OllwszW",
        "outputId": "2a8150ca-c7c0-4aa0-ea8a-5a8808857676"
      },
      "source": [
        "list3 = [1, 5, 10, 20]\n",
        "list3.sort(reverse=True)\n",
        "print(list3)"
      ],
      "execution_count": 52,
      "outputs": [
        {
          "output_type": "stream",
          "name": "stdout",
          "text": [
            "[20, 10, 5, 1]\n"
          ]
        }
      ]
    },
    {
      "cell_type": "markdown",
      "metadata": {
        "id": "400ynzYYxIde"
      },
      "source": [
        "bai 7 "
      ]
    },
    {
      "cell_type": "code",
      "metadata": {
        "colab": {
          "base_uri": "https://localhost:8080/"
        },
        "id": "4vW3IIOPxJus",
        "outputId": "f29b142f-51e7-45d4-b489-74fe8a2bddf3"
      },
      "source": [
        "list3 = ['hello',\"a\", 1,3,4]\n",
        "len(list3)"
      ],
      "execution_count": 24,
      "outputs": [
        {
          "output_type": "execute_result",
          "data": {
            "text/plain": [
              "5"
            ]
          },
          "metadata": {},
          "execution_count": 24
        }
      ]
    },
    {
      "cell_type": "markdown",
      "metadata": {
        "id": "8Czb1KwYxZLe"
      },
      "source": [
        "bai 8"
      ]
    },
    {
      "cell_type": "code",
      "metadata": {
        "colab": {
          "base_uri": "https://localhost:8080/"
        },
        "id": "oC5AORnCxagf",
        "outputId": "63147e0f-8630-43d9-9887-2d7f1c5e08b0"
      },
      "source": [
        "import random\n",
        "list4 = ['a', 'b', 'c', \"hello\",1,2,3,4,5]\n",
        "random.choice(list4)"
      ],
      "execution_count": 57,
      "outputs": [
        {
          "output_type": "execute_result",
          "data": {
            "text/plain": [
              "5"
            ]
          },
          "metadata": {},
          "execution_count": 57
        }
      ]
    },
    {
      "cell_type": "markdown",
      "metadata": {
        "id": "JAHEDS3txy9R"
      },
      "source": [
        "bai 9"
      ]
    },
    {
      "cell_type": "code",
      "metadata": {
        "colab": {
          "base_uri": "https://localhost:8080/"
        },
        "id": "u_aNvT5uxzxm",
        "outputId": "a7a1985c-24a1-430a-dd00-c571240c123a"
      },
      "source": [
        "list1 = [1,2,3,4]\n",
        "list2 = [\"hello\", \"hi\", 'a']\n",
        "list1 + list2"
      ],
      "execution_count": 32,
      "outputs": [
        {
          "output_type": "execute_result",
          "data": {
            "text/plain": [
              "[1, 2, 3, 4, 'hello', 'hi', 'a']"
            ]
          },
          "metadata": {},
          "execution_count": 32
        }
      ]
    }
  ]
}