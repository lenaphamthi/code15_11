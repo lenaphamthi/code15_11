{
  "nbformat": 4,
  "nbformat_minor": 0,
  "metadata": {
    "colab": {
      "name": "baitaptailoplan2.ipynb",
      "provenance": [],
      "collapsed_sections": [],
      "authorship_tag": "ABX9TyN4wpUBKhub6yqBLm0hgJ1A",
      "include_colab_link": true
    },
    "kernelspec": {
      "display_name": "Python 3",
      "name": "python3"
    },
    "language_info": {
      "name": "python"
    }
  },
  "cells": [
    {
      "cell_type": "markdown",
      "metadata": {
        "id": "view-in-github",
        "colab_type": "text"
      },
      "source": [
        "<a href=\"https://colab.research.google.com/github/lenaphamthi/code15_11/blob/master/baitaptailoplan2.ipynb\" target=\"_parent\"><img src=\"https://colab.research.google.com/assets/colab-badge.svg\" alt=\"Open In Colab\"/></a>"
      ]
    },
    {
      "cell_type": "markdown",
      "metadata": {
        "id": "jZqIl4WMd-2k"
      },
      "source": [
        "trang 16"
      ]
    },
    {
      "cell_type": "code",
      "metadata": {
        "colab": {
          "base_uri": "https://localhost:8080/"
        },
        "id": "297S5gT7eOdh",
        "outputId": "dd3059c2-a2ef-47df-e0c1-4f1c670cce0b"
      },
      "source": [
        "tup1 = ('physics', 'chemistry', 1997, 2000)\n",
        "tup2 = (1, 2, 3, 4, 5, 6, 7 )\n",
        "print(\"tup1[0]: \", tup1[0])\n",
        "print(\"tup2[1:5]: \", tup2[1:5])"
      ],
      "execution_count": 22,
      "outputs": [
        {
          "output_type": "stream",
          "name": "stdout",
          "text": [
            "tup1[0]:  physics\n",
            "tup2[1:5]:  (2, 3, 4, 5)\n"
          ]
        }
      ]
    },
    {
      "cell_type": "markdown",
      "metadata": {
        "id": "qK_ed8PPeejF"
      },
      "source": [
        "trang 17"
      ]
    },
    {
      "cell_type": "code",
      "metadata": {
        "colab": {
          "background_save": true
        },
        "id": "xDrwvkxKelr2",
        "outputId": "c7844487-2d75-40b1-ac11-e485e1d98022"
      },
      "source": [
        "tup1 = (12, 34.56)\n",
        "tup2 = ('abc', 'xyz')\n",
        "tup3 = tup1 + tup2\n",
        "print(tup3)"
      ],
      "execution_count": null,
      "outputs": [
        {
          "name": "stdout",
          "output_type": "stream",
          "text": [
            "(12, 34.56, 'abc', 'xyz')\n"
          ]
        }
      ]
    },
    {
      "cell_type": "markdown",
      "metadata": {
        "id": "3-MIM12pejrc"
      },
      "source": [
        "trang 18"
      ]
    },
    {
      "cell_type": "code",
      "metadata": {
        "id": "-JusTHj2efdt",
        "colab": {
          "base_uri": "https://localhost:8080/"
        },
        "outputId": "e0ba70cd-d147-4003-d22c-629bcc2c4816"
      },
      "source": [
        "tuple1 = ('physics', 'chemistry', 1997, 2000)\n",
        "print(tuple1)\n",
        "del tuple1\n"
      ],
      "execution_count": 31,
      "outputs": [
        {
          "output_type": "stream",
          "name": "stdout",
          "text": [
            "('physics', 'chemistry', 1997, 2000)\n"
          ]
        }
      ]
    },
    {
      "cell_type": "code",
      "metadata": {
        "colab": {
          "base_uri": "https://localhost:8080/"
        },
        "id": "8AzWLMPlnnId",
        "outputId": "4a296d5d-7bee-4e02-c18f-1775e7cadbaf"
      },
      "source": [
        "tup = ('physics', 'chemistry', 1997, 2000)\n",
        "print(tup)\n",
        "del tup\n",
        "print(\"After deleting tup : \", )\n"
      ],
      "execution_count": 105,
      "outputs": [
        {
          "output_type": "stream",
          "name": "stdout",
          "text": [
            "('physics', 'chemistry', 1997, 2000)\n",
            "After deleting tup : \n"
          ]
        }
      ]
    },
    {
      "cell_type": "markdown",
      "metadata": {
        "id": "H3IWAE7mesXc"
      },
      "source": [
        "trang 19"
      ]
    },
    {
      "cell_type": "code",
      "metadata": {
        "colab": {
          "base_uri": "https://localhost:8080/"
        },
        "id": "NGh2fIYzetoM",
        "outputId": "d204da2d-f234-446e-a8a3-034f71a0cab8"
      },
      "source": [
        "len((1, 2, 3))"
      ],
      "execution_count": null,
      "outputs": [
        {
          "data": {
            "text/plain": [
              "3"
            ]
          },
          "execution_count": 7,
          "metadata": {},
          "output_type": "execute_result"
        }
      ]
    },
    {
      "cell_type": "code",
      "metadata": {
        "colab": {
          "base_uri": "https://localhost:8080/"
        },
        "id": "HY-faRGYe7RF",
        "outputId": "fce2a672-85fe-4572-ad1a-9d9a041360ee"
      },
      "source": [
        "(1, 2, 3) + (4, 5, 6)"
      ],
      "execution_count": null,
      "outputs": [
        {
          "data": {
            "text/plain": [
              "(1, 2, 3, 4, 5, 6)"
            ]
          },
          "execution_count": 17,
          "metadata": {},
          "output_type": "execute_result"
        }
      ]
    },
    {
      "cell_type": "code",
      "metadata": {
        "colab": {
          "base_uri": "https://localhost:8080/",
          "height": 34
        },
        "id": "yG3TjzjEe_Dv",
        "outputId": "a182c73b-d0fc-48f1-d13b-00151603ffa1"
      },
      "source": [
        "('hello,')* 4"
      ],
      "execution_count": 37,
      "outputs": [
        {
          "output_type": "execute_result",
          "data": {
            "application/vnd.google.colaboratory.intrinsic+json": {
              "type": "string"
            },
            "text/plain": [
              "'hello,hello,hello,hello,'"
            ]
          },
          "metadata": {},
          "execution_count": 37
        }
      ]
    },
    {
      "cell_type": "code",
      "metadata": {
        "id": "JGkEEPhJfAgV",
        "colab": {
          "base_uri": "https://localhost:8080/"
        },
        "outputId": "04157ab3-438f-4f35-ac03-c51aeb8f9f05"
      },
      "source": [
        "3 in (1, 2, 3)"
      ],
      "execution_count": 38,
      "outputs": [
        {
          "output_type": "execute_result",
          "data": {
            "text/plain": [
              "True"
            ]
          },
          "metadata": {},
          "execution_count": 38
        }
      ]
    },
    {
      "cell_type": "markdown",
      "metadata": {
        "id": "snVAsm44fCp1"
      },
      "source": [
        "trang 20"
      ]
    },
    {
      "cell_type": "code",
      "metadata": {
        "colab": {
          "base_uri": "https://localhost:8080/",
          "height": 34
        },
        "id": "Lv8Lkp85fD0d",
        "outputId": "04ac3f0f-5021-4898-fb80-87c72fe90d6a"
      },
      "source": [
        "T = ('Red', 'Yellow', 'Green')\n",
        "T[-2]"
      ],
      "execution_count": null,
      "outputs": [
        {
          "data": {
            "application/vnd.google.colaboratory.intrinsic+json": {
              "type": "string"
            },
            "text/plain": [
              "'Yellow'"
            ]
          },
          "execution_count": 11,
          "metadata": {},
          "output_type": "execute_result"
        }
      ]
    },
    {
      "cell_type": "code",
      "metadata": {
        "colab": {
          "base_uri": "https://localhost:8080/",
          "height": 34
        },
        "id": "4oMvx6Oxfhmu",
        "outputId": "53ec63a1-e6ed-4d05-a13b-ef94357ea34b"
      },
      "source": [
        "T[2]"
      ],
      "execution_count": null,
      "outputs": [
        {
          "data": {
            "application/vnd.google.colaboratory.intrinsic+json": {
              "type": "string"
            },
            "text/plain": [
              "'Green'"
            ]
          },
          "execution_count": 10,
          "metadata": {},
          "output_type": "execute_result"
        }
      ]
    },
    {
      "cell_type": "code",
      "metadata": {
        "colab": {
          "base_uri": "https://localhost:8080/"
        },
        "id": "8ghXOZRRftdo",
        "outputId": "699e237e-1b35-4b82-9bb9-a761487fda0a"
      },
      "source": [
        "T[1:]"
      ],
      "execution_count": null,
      "outputs": [
        {
          "data": {
            "text/plain": [
              "('Yellow', 'Green')"
            ]
          },
          "execution_count": 13,
          "metadata": {},
          "output_type": "execute_result"
        }
      ]
    },
    {
      "cell_type": "markdown",
      "metadata": {
        "id": "eBjyWdj-fo_H"
      },
      "source": [
        "trang 21"
      ]
    },
    {
      "cell_type": "code",
      "metadata": {
        "colab": {
          "base_uri": "https://localhost:8080/"
        },
        "id": "LUUmjuGKf1Gs",
        "outputId": "4226549d-42ea-4917-bdbf-4ee696e410c4"
      },
      "source": [
        "tup1 = (2,4,5,6,)\n",
        "len(tup1)"
      ],
      "execution_count": 42,
      "outputs": [
        {
          "output_type": "execute_result",
          "data": {
            "text/plain": [
              "4"
            ]
          },
          "metadata": {},
          "execution_count": 42
        }
      ]
    },
    {
      "cell_type": "code",
      "metadata": {
        "colab": {
          "base_uri": "https://localhost:8080/"
        },
        "id": "8P-Kc6ncj2qh",
        "outputId": "75774408-3e94-4bb2-8c33-b632b3ae3e45"
      },
      "source": [
        "max(tup1)"
      ],
      "execution_count": 43,
      "outputs": [
        {
          "output_type": "execute_result",
          "data": {
            "text/plain": [
              "6"
            ]
          },
          "metadata": {},
          "execution_count": 43
        }
      ]
    },
    {
      "cell_type": "code",
      "metadata": {
        "colab": {
          "base_uri": "https://localhost:8080/"
        },
        "id": "xHyK2cdgj7Dp",
        "outputId": "03168f68-54c4-4ed0-d5dd-1bf243114291"
      },
      "source": [
        "min(tup1)"
      ],
      "execution_count": 44,
      "outputs": [
        {
          "output_type": "execute_result",
          "data": {
            "text/plain": [
              "2"
            ]
          },
          "metadata": {},
          "execution_count": 44
        }
      ]
    },
    {
      "cell_type": "markdown",
      "metadata": {
        "id": "rBcP30TugQtf"
      },
      "source": [
        "DICT"
      ]
    },
    {
      "cell_type": "code",
      "metadata": {
        "id": "rHfNvEv4gTSG",
        "colab": {
          "base_uri": "https://localhost:8080/"
        },
        "outputId": "2b22063c-563d-4a90-d2c9-fd9fcc6baac1"
      },
      "source": [
        "dict1 = {'Name': 'Na', 'Age': 18, 'Class': 'DS&AI'}\n",
        "print(\"dict1['Name']: \", dict1['Name'])\n",
        "print(\"dict1['Age']: \", dict1['Age'])"
      ],
      "execution_count": 122,
      "outputs": [
        {
          "output_type": "stream",
          "name": "stdout",
          "text": [
            "dict1['Name']:  Na\n",
            "dict1['Age']:  18\n"
          ]
        }
      ]
    },
    {
      "cell_type": "markdown",
      "metadata": {
        "id": "gF3J2RAIgYUe"
      },
      "source": [
        "trang 25"
      ]
    },
    {
      "cell_type": "code",
      "metadata": {
        "id": "m6MsN3_hgXn4",
        "colab": {
          "base_uri": "https://localhost:8080/"
        },
        "outputId": "576c4e83-0f14-4203-d218-d62efc43e579"
      },
      "source": [
        "dict1 = {'Name': 'Na', 'Age': 18, 'Class': 'DS&AI'}\n",
        "dict1['Age'] = 8; \n",
        "dict1['School'] = \"DPS School\"; \n",
        "print(\"dict1['Age']: \", dict1['Age'])\n",
        "print(\"dict1['School']: \", dict1['School'])"
      ],
      "execution_count": 62,
      "outputs": [
        {
          "output_type": "stream",
          "name": "stdout",
          "text": [
            "dict1['Age']:  8\n",
            "dict1['School']:  DPS School\n"
          ]
        }
      ]
    },
    {
      "cell_type": "markdown",
      "metadata": {
        "id": "lLHNSMyFgedP"
      },
      "source": [
        "trang 26"
      ]
    },
    {
      "cell_type": "code",
      "metadata": {
        "id": "U_1PZ7vKgffy"
      },
      "source": [
        "dict1 = {'Name': 'Na', 'Age': 18, 'Class': 'DS&AI'}\n",
        "del dict1['Name'] \n",
        "dict1.clear() \n",
        "del dict1"
      ],
      "execution_count": 123,
      "outputs": []
    },
    {
      "cell_type": "markdown",
      "metadata": {
        "id": "Qtt2axdtgh8O"
      },
      "source": [
        "trang 27"
      ]
    },
    {
      "cell_type": "code",
      "metadata": {
        "id": "_-uJFB86gjQc",
        "colab": {
          "base_uri": "https://localhost:8080/"
        },
        "outputId": "d7c878d7-853c-4ac9-b36a-2d0f6342e3b2"
      },
      "source": [
        "d1 = {'Name': 'Zara', 'Age': 7, 'Class': 'First'}\n",
        "len(d1)"
      ],
      "execution_count": 50,
      "outputs": [
        {
          "output_type": "execute_result",
          "data": {
            "text/plain": [
              "3"
            ]
          },
          "metadata": {},
          "execution_count": 50
        }
      ]
    },
    {
      "cell_type": "code",
      "metadata": {
        "id": "CVhM1LG4gtEl",
        "colab": {
          "base_uri": "https://localhost:8080/",
          "height": 34
        },
        "outputId": "ff570b2f-eddb-40fb-ca7b-1df441ea79da"
      },
      "source": [
        "str(d1)"
      ],
      "execution_count": 51,
      "outputs": [
        {
          "output_type": "execute_result",
          "data": {
            "application/vnd.google.colaboratory.intrinsic+json": {
              "type": "string"
            },
            "text/plain": [
              "\"{'Name': 'Zara', 'Age': 7, 'Class': 'First'}\""
            ]
          },
          "metadata": {},
          "execution_count": 51
        }
      ]
    },
    {
      "cell_type": "markdown",
      "metadata": {
        "id": "TU6TLDzXh_DY"
      },
      "source": [
        "trang 28"
      ]
    },
    {
      "cell_type": "code",
      "metadata": {
        "colab": {
          "base_uri": "https://localhost:8080/"
        },
        "id": "jfXTB5tUiCPB",
        "outputId": "5806048d-51a0-4b9d-fac5-02865992f973"
      },
      "source": [
        "dict.copy(d1)"
      ],
      "execution_count": 114,
      "outputs": [
        {
          "output_type": "execute_result",
          "data": {
            "text/plain": [
              "{'gioi tinh': 'nu'}"
            ]
          },
          "metadata": {},
          "execution_count": 114
        }
      ]
    },
    {
      "cell_type": "code",
      "metadata": {
        "id": "bZBpJZMWkhfD"
      },
      "source": [
        "dict.clear(d1)"
      ],
      "execution_count": 55,
      "outputs": []
    },
    {
      "cell_type": "code",
      "metadata": {
        "colab": {
          "base_uri": "https://localhost:8080/"
        },
        "id": "5pw-ElN1lyjl",
        "outputId": "447fd5d3-ee9e-4162-d4bf-bd6c05eb4eef"
      },
      "source": [
        "dict1 = {'Name': 'Na', 'Age': 18, 'Class': 'DS&AI'}\n",
        "dict2 = {'gioi tinh': 'nu'}\n",
        "dict1.update(dict2)\n",
        "print (dict1)"
      ],
      "execution_count": 88,
      "outputs": [
        {
          "output_type": "stream",
          "name": "stdout",
          "text": [
            "{'Name': 'Na', 'Age': 18, 'Class': 'DS&AI', 'gioi tinh': 'nu'}\n"
          ]
        }
      ]
    },
    {
      "cell_type": "markdown",
      "metadata": {
        "id": "CPyNYnRhiIVR"
      },
      "source": [
        "SET"
      ]
    },
    {
      "cell_type": "code",
      "metadata": {
        "colab": {
          "base_uri": "https://localhost:8080/"
        },
        "id": "I15O-2CJiJrD",
        "outputId": "7f0bcec6-1862-40e5-ded2-a28707395c4b"
      },
      "source": [
        "Set1 = set([\"a\", \"b\", \"c\"])\n",
        "print(\"Set1: \")\n",
        "print(Set1)\n",
        "Set1.add(\"d\")\n",
        "print(\"\\nSet1 after adding: \")\n",
        "print(Set1)"
      ],
      "execution_count": 121,
      "outputs": [
        {
          "output_type": "stream",
          "name": "stdout",
          "text": [
            "Set1: \n",
            "{'c', 'a', 'b'}\n",
            "\n",
            "Set1 after adding: \n",
            "{'c', 'd', 'a', 'b'}\n"
          ]
        }
      ]
    },
    {
      "cell_type": "markdown",
      "metadata": {
        "id": "Vv0AgIZDpNKT"
      },
      "source": [
        "trang 32"
      ]
    },
    {
      "cell_type": "code",
      "metadata": {
        "colab": {
          "base_uri": "https://localhost:8080/"
        },
        "id": "E5N6_UOwpG3z",
        "outputId": "a0be6f2c-da26-457f-d88e-70205b0ca605"
      },
      "source": [
        "people = {\"Jay\", \"Idrish\", \"Archi\"}\n",
        "print(\"People: \")\n",
        "print(people)\n",
        "people.add(\"Daxit\")\n",
        "for i in range(1, 6):\n",
        "  people.add(i)\n",
        "print(\"\\nSet after adding element:\", end = \" \")\n",
        "print(people)"
      ],
      "execution_count": 112,
      "outputs": [
        {
          "output_type": "stream",
          "name": "stdout",
          "text": [
            "People: \n",
            "{'Archi', 'Idrish', 'Jay'}\n",
            "\n",
            "Set after adding element: {1, 2, 3, 'Archi', 4, 5, 'Daxit', 'Jay', 'Idrish'}\n"
          ]
        }
      ]
    },
    {
      "cell_type": "markdown",
      "metadata": {
        "id": "8sIXbV66pA4V"
      },
      "source": [
        "trang 33"
      ]
    },
    {
      "cell_type": "code",
      "metadata": {
        "colab": {
          "base_uri": "https://localhost:8080/"
        },
        "id": "9CGbzeq5iQnA",
        "outputId": "d04e9896-c264-469c-a1bd-773e8c3f01ac"
      },
      "source": [
        "Days=set([\"Mon\",\"Tue\",\"Wed\",\"Thu\",\"Fri\",\"Sat\",\"Sun\"])\n",
        "print(Days)\n",
        "Days.discard(\"Sun\")\n",
        "print(Days)"
      ],
      "execution_count": 92,
      "outputs": [
        {
          "output_type": "stream",
          "name": "stdout",
          "text": [
            "{'Sun', 'Tue', 'Wed', 'Fri', 'Mon', 'Thu', 'Sat'}\n",
            "{'Tue', 'Wed', 'Fri', 'Mon', 'Thu', 'Sat'}\n"
          ]
        }
      ]
    },
    {
      "cell_type": "markdown",
      "metadata": {
        "id": "hL9XBzSzpTh1"
      },
      "source": [
        "trang 34"
      ]
    },
    {
      "cell_type": "code",
      "metadata": {
        "colab": {
          "base_uri": "https://localhost:8080/"
        },
        "id": "t6ubpx03iTH4",
        "outputId": "f7891336-9495-43fd-8b63-4037dbcb5bf5"
      },
      "source": [
        "set1 = {1,2,3,4,5,6}\n",
        "print(\"Initial set\")\n",
        "print(set1)\n",
        "set1.clear()\n",
        "print(\"\\nSet after using clear() function\")\n",
        "print(set1)"
      ],
      "execution_count": 85,
      "outputs": [
        {
          "output_type": "stream",
          "name": "stdout",
          "text": [
            "Initial set\n",
            "{1, 2, 3, 4, 5, 6}\n",
            "\n",
            "Set after using clear() function\n",
            "set()\n"
          ]
        }
      ]
    },
    {
      "cell_type": "markdown",
      "metadata": {
        "id": "SXSEtTJypVn0"
      },
      "source": [
        "trang 35"
      ]
    },
    {
      "cell_type": "code",
      "metadata": {
        "colab": {
          "base_uri": "https://localhost:8080/"
        },
        "id": "b3DjOXhyiVUI",
        "outputId": "a0bf3e0e-5928-4984-c3bf-e1ad500f2562"
      },
      "source": [
        "people = {\"Jay\", \"Idrish\", \"Archil\"}\n",
        "vampires = {\"Karan\", \"Arjun\"}\n",
        "dracula = {\"Deepanshu\", \"Raju\"}\n",
        "population = people.union(vampires)\n",
        "print(\"Union using union() function\")\n",
        "print(population)\n",
        "population = people|dracula\n",
        "print(\"\\nUnion using '|' operator\")\n",
        "print(population)"
      ],
      "execution_count": 84,
      "outputs": [
        {
          "output_type": "stream",
          "name": "stdout",
          "text": [
            "Union using union() function\n",
            "{'Idrish', 'Archil', 'Karan', 'Arjun', 'Jay'}\n",
            "\n",
            "Union using '|' operator\n",
            "{'Idrish', 'Archil', 'Raju', 'Deepanshu', 'Jay'}\n"
          ]
        }
      ]
    },
    {
      "cell_type": "markdown",
      "metadata": {
        "id": "dzq3EZ1XpgVU"
      },
      "source": [
        "trang 36"
      ]
    },
    {
      "cell_type": "code",
      "metadata": {
        "colab": {
          "base_uri": "https://localhost:8080/"
        },
        "id": "sN0dmW-Wo4O0",
        "outputId": "fa6f2ed2-5896-49ca-a31b-af65681b73f4"
      },
      "source": [
        "set1 = set()\n",
        "for i in range(5):\n",
        "  set1.add(i)\n",
        "set2 = {3, 4, 5, 6, 7, 8}\n",
        "# Intersection using intersection() function\n",
        "set3 = set1.intersection(set2)\n",
        "print(\"Intersection using intersection() function\")\n",
        "print(set3)\n",
        "# Intersection using \"&\" operator\n",
        "set3 = set1 & set2\n",
        "print(\"\\nIntersection using '&' operator\")\n",
        "print(set3)"
      ],
      "execution_count": 107,
      "outputs": [
        {
          "output_type": "stream",
          "name": "stdout",
          "text": [
            "Intersection using intersection() function\n",
            "{3, 4}\n",
            "\n",
            "Intersection using '&' operator\n",
            "{3, 4}\n"
          ]
        }
      ]
    },
    {
      "cell_type": "markdown",
      "metadata": {
        "id": "BGFuZR1ipiAz"
      },
      "source": [
        "trang 37"
      ]
    },
    {
      "cell_type": "code",
      "metadata": {
        "colab": {
          "base_uri": "https://localhost:8080/"
        },
        "id": "vA7Oxasuo8dU",
        "outputId": "adb0cb73-590f-4c4b-f927-351c7d432203"
      },
      "source": [
        "set1 = set()\n",
        "for i in range(5):\n",
        "  set1.add(i)\n",
        "set2 = {3, 4, 5, 6, 7, 8}\n",
        "# Difference of two sets using difference() function\n",
        "set3 = set1.difference(set2)\n",
        "print(\" Difference of two sets using difference() function\")\n",
        "print(set3)\n",
        "# Difference of two sets using '-' operator\n",
        "set3 = set1 - set2\n",
        "print(\"\\nDifference of two sets using '-' operator\")\n",
        "print(set3)"
      ],
      "execution_count": 108,
      "outputs": [
        {
          "output_type": "stream",
          "name": "stdout",
          "text": [
            " Difference of two sets using difference() function\n",
            "{0, 1, 2}\n",
            "\n",
            "Difference of two sets using '-' operator\n",
            "{0, 1, 2}\n"
          ]
        }
      ]
    },
    {
      "cell_type": "code",
      "metadata": {
        "colab": {
          "base_uri": "https://localhost:8080/"
        },
        "id": "SVh69b9Pib6B",
        "outputId": "5ef530bd-256e-4da2-ac03-17ffbfa820d6"
      },
      "source": [
        "DaysA = set([\"Mon\",\"Tue\",\"Wed\"])\n",
        "DaysB = set([\"Mon\",\"Tue\",\"Wed\",\"Thu\",\"Fri\",\"Sat\",\"Sun\"])\n",
        "SubsetRes = DaysA <= DaysB\n",
        "SupersetRes = DaysB >= DaysA\n",
        "print(SubsetRes)\n",
        "print(SupersetRes)"
      ],
      "execution_count": 77,
      "outputs": [
        {
          "output_type": "stream",
          "name": "stdout",
          "text": [
            "True\n",
            "True\n"
          ]
        }
      ]
    },
    {
      "cell_type": "markdown",
      "metadata": {
        "id": "PxiYJxCrifBZ"
      },
      "source": [
        "DATE&TIME"
      ]
    },
    {
      "cell_type": "code",
      "metadata": {
        "colab": {
          "base_uri": "https://localhost:8080/"
        },
        "id": "sMk29n9Pignp",
        "outputId": "0e633421-f73c-4bee-e299-c47bbf81745f"
      },
      "source": [
        "import time; \n",
        "ticks = time.time()\n",
        "print(\"Number of ticks since 3:00CH, November, 2021:\", ticks)\n",
        "localtime = time.localtime(time.time())\n",
        "print(\"Local current time :\", localtime)"
      ],
      "execution_count": 80,
      "outputs": [
        {
          "output_type": "stream",
          "name": "stdout",
          "text": [
            "Number of ticks since 3:00CH, November, 2021: 1636963001.3029523\n",
            "Local current time : time.struct_time(tm_year=2021, tm_mon=11, tm_mday=15, tm_hour=7, tm_min=56, tm_sec=41, tm_wday=0, tm_yday=319, tm_isdst=0)\n"
          ]
        }
      ]
    },
    {
      "cell_type": "code",
      "metadata": {
        "colab": {
          "base_uri": "https://localhost:8080/"
        },
        "id": "yB7_YACUiiSZ",
        "outputId": "47c71010-1e3f-40bf-ed5d-49da80827539"
      },
      "source": [
        "import time;\n",
        "localtime = time.asctime( time.localtime(time.time()) )\n",
        "print(\"Local current time :\", localtime)"
      ],
      "execution_count": 81,
      "outputs": [
        {
          "output_type": "stream",
          "name": "stdout",
          "text": [
            "Local current time : Mon Nov 15 07:56:49 2021\n"
          ]
        }
      ]
    },
    {
      "cell_type": "code",
      "metadata": {
        "colab": {
          "base_uri": "https://localhost:8080/"
        },
        "id": "mPbHVm7jij2Z",
        "outputId": "7171d708-76f3-4ac3-ebb8-617f17b8cbdc"
      },
      "source": [
        "import calendar\n",
        "cal = calendar.month(2021, 11)\n",
        "print(\"Here is the calendar:\")\n",
        "print(cal)"
      ],
      "execution_count": 82,
      "outputs": [
        {
          "output_type": "stream",
          "name": "stdout",
          "text": [
            "Here is the calendar:\n",
            "   November 2021\n",
            "Mo Tu We Th Fr Sa Su\n",
            " 1  2  3  4  5  6  7\n",
            " 8  9 10 11 12 13 14\n",
            "15 16 17 18 19 20 21\n",
            "22 23 24 25 26 27 28\n",
            "29 30\n",
            "\n"
          ]
        }
      ]
    }
  ]
}